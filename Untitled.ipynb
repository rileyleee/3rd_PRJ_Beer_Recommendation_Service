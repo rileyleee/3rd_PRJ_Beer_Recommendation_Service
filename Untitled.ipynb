{
 "cells": [
  {
   "cell_type": "code",
   "execution_count": 23,
   "id": "f9d6e633",
   "metadata": {},
   "outputs": [],
   "source": [
    "from keras.utils import np_utils\n",
    "from keras.datasets import mnist\n",
    "from keras.models import Sequential\n",
    "from keras.layers import Dense, Activation\n",
    "import numpy as np\n",
    "import os\n",
    "from numpy import argmax\n",
    "import pandas as pd"
   ]
  },
  {
   "cell_type": "code",
   "execution_count": 9,
   "id": "ecc2601a",
   "metadata": {},
   "outputs": [
    {
     "data": {
      "text/plain": [
       "'C:\\\\Users\\\\euclid_edu5\\\\workspace\\\\3rd_project\\\\3rd_Project'"
      ]
     },
     "execution_count": 9,
     "metadata": {},
     "output_type": "execute_result"
    }
   ],
   "source": [
    "os.getcwd()"
   ]
  },
  {
   "cell_type": "code",
   "execution_count": 11,
   "id": "783a535a",
   "metadata": {},
   "outputs": [
    {
     "data": {
      "text/plain": [
       "'C:\\\\Users\\\\euclid_edu5\\\\workspace\\\\3rd_project\\\\3rd_Project\\\\search'"
      ]
     },
     "execution_count": 11,
     "metadata": {},
     "output_type": "execute_result"
    }
   ],
   "source": [
    "os.chdir(\"C:\\\\Users\\\\euclid_edu5\\\\workspace\\\\3rd_project\\\\3rd_Project\\\\search\")"
   ]
  },
  {
   "cell_type": "code",
   "execution_count": 31,
   "id": "bc25c2b9",
   "metadata": {},
   "outputs": [
    {
     "data": {
      "text/plain": [
       "['Bock',\n",
       " 'Doppelbock',\n",
       " 'Eisbock',\n",
       " 'Maibock',\n",
       " 'Weizenbock',\n",
       " 'Altbier',\n",
       " 'AmericanBrownAle',\n",
       " 'BelgianDarkAle',\n",
       " 'EnglishBrownAle',\n",
       " 'EnglishDarkMildAle',\n",
       " 'Dubbel',\n",
       " 'Roggenbier',\n",
       " 'ScottishAle',\n",
       " 'WinterWarmer',\n",
       " 'AmericanAmberRedLager',\n",
       " 'CzechDarkLager',\n",
       " 'EuropeanDarkLager',\n",
       " 'Märzen',\n",
       " 'MunichDunkel',\n",
       " 'Rauchbier',\n",
       " 'Schwarzbier',\n",
       " 'ViennaLager',\n",
       " 'BièredeChampagneBièreBrut',\n",
       " 'Braggot',\n",
       " 'CaliforniaCommonSteamBeer',\n",
       " 'CreamAle',\n",
       " 'AmericanIPA',\n",
       " 'BelgianIPA',\n",
       " 'BlackIPA',\n",
       " 'BrutIPA',\n",
       " 'EnglishIPA',\n",
       " 'ImperialIPA',\n",
       " 'MilkshakeIPA',\n",
       " 'NewEnglandIPA',\n",
       " 'AmericanAmberRedAle',\n",
       " 'AmericanBlondeAle',\n",
       " 'AmericanPaleAle',\n",
       " 'BelgianBlondeAle',\n",
       " 'BelgianPaleAle',\n",
       " 'BièredeGarde',\n",
       " 'EnglishBitter',\n",
       " 'EnglishPaleAle',\n",
       " 'EnglishPaleMildAle',\n",
       " 'ExtraSpecialStrongBitterESB',\n",
       " 'Grisette',\n",
       " 'IrishRedAle',\n",
       " 'Kölsch',\n",
       " 'Saison',\n",
       " 'AmericanAdjunctLager',\n",
       " 'AmericanLager',\n",
       " 'BohemianCzechPilsner',\n",
       " 'CzechPaleLager',\n",
       " 'EuropeanDortmunderExportLager',\n",
       " 'EuropeanPaleLager',\n",
       " 'EuropeanStrongLager',\n",
       " 'FestbierWiesnbier',\n",
       " 'GermanPilsner',\n",
       " 'Helles',\n",
       " 'ImperialPilsner',\n",
       " 'IndiaPaleLagerIPL',\n",
       " 'KellerbierZwickelbier',\n",
       " 'LightLager',\n",
       " 'MaltLiquor',\n",
       " 'AmericanPorter',\n",
       " 'BalticPorter',\n",
       " 'EnglishPorter',\n",
       " 'ImperialPorter',\n",
       " 'RobustPorter',\n",
       " 'SmokedPorter',\n",
       " 'ChileBeer',\n",
       " 'FruitandFieldBeer',\n",
       " 'PumpkinBeer',\n",
       " 'GruitAncientHerbedAle',\n",
       " 'Happoshu',\n",
       " 'HerbandSpiceBeer',\n",
       " 'JapaneseRiceLager',\n",
       " 'Kvass',\n",
       " 'LowAlcoholBeer',\n",
       " 'RyeBeer',\n",
       " 'Sahti',\n",
       " 'SmokedBeer',\n",
       " 'AmericanImperialStout',\n",
       " 'OatmealStout',\n",
       " 'AmericanStout',\n",
       " 'EnglishStout',\n",
       " 'ForeignExportStout',\n",
       " 'IrishDryStout',\n",
       " 'RussianImperialStout',\n",
       " 'SweetMilkStout',\n",
       " 'AmericanBarleywine',\n",
       " 'AmericanDarkWheatBeer',\n",
       " 'AmericanPaleWheatBeer',\n",
       " 'Dunkelweizen',\n",
       " 'Grodziskie',\n",
       " 'Hefeweizen',\n",
       " 'Kristallweizen',\n",
       " 'Witbier',\n",
       " 'BerlinerWeisse',\n",
       " 'BrettBeer',\n",
       " 'Faro',\n",
       " 'FlandersOudBruin',\n",
       " 'FlandersRedAle',\n",
       " 'FruitLambic',\n",
       " 'FruitedKettleSour',\n",
       " 'Gose',\n",
       " 'Gueuze',\n",
       " 'Lambic',\n",
       " 'WildAle']"
      ]
     },
     "execution_count": 31,
     "metadata": {},
     "output_type": "execute_result"
    }
   ],
   "source": [
    "df = pd.read_csv(\"final_train_beer_rating.csv\")\n",
    "\n",
    "\n",
    "df['Style_main']= df['스타일소분류'].str.replace(pat=r'[^\\w]',repl=r'',regex=True)\n",
    "\n",
    "df_copy = df\n",
    "df_feature = df[['Style_main','Body','Sweet','Fruity','Hoppy','Malty']]\n",
    "\n",
    "X = df[['Body','Sweet','Fruity','Hoppy','Malty']]\n",
    "y = df['Style_main']\n",
    "\n",
    "# # y를 라벨링\n",
    "# encoder = LabelEncoder()\n",
    "# encoder.fit(y)\n",
    "# Y_encodered = encoder.transform(y)\n",
    "# print(Y_encodered)\n",
    "\n",
    "\n",
    "# # 데이터 정규화 Min/Max\n",
    "# X = (X - X.min(axis=0)) / (X.max(axis=0) - X.min(axis=0))\n",
    "\n",
    "# counter = Counter(Y_encodered)\n",
    "# print(counter)\n",
    "\n",
    "# # Borderline-SMOTE 데이터 증식\n",
    "# smote = BorderlineSMOTE(random_state=0, k_neighbors=1) \n",
    "# X_over, y_over = smote.fit_resample(X,Y_encodered)\n",
    "\n",
    "# print('SMOTE 적용 전 학습용 피처/레이블 데이터 세트: ', X.shape, Y_encodered.shape)\n",
    "# print('SMOTE 적용 후 학습용 피처/레이블 데이터 세트: ', X_over.shape, y_over.shape)\n",
    "\n",
    "# # 범주형 데이터로 변환\n",
    "# y = np_utils.to_categorical(y_over)\n",
    "# X_train, X_test, y_train, y_test = train_test_split(X_over, y, test_size=0.3, random_state=777)\n",
    "\n",
    "# 스타일명 변수 지정\n",
    "style_name = df.Style_main.unique()\n",
    "style_name.tolist()"
   ]
  },
  {
   "cell_type": "code",
   "execution_count": 21,
   "id": "129f192b",
   "metadata": {},
   "outputs": [
    {
     "data": {
      "text/plain": [
       "'C:\\\\Users\\\\euclid_edu5\\\\workspace\\\\3rd_project\\\\3rd_Project\\\\search'"
      ]
     },
     "execution_count": 21,
     "metadata": {},
     "output_type": "execute_result"
    }
   ],
   "source": [
    "os.getcwd()"
   ]
  },
  {
   "cell_type": "code",
   "execution_count": 17,
   "id": "e1f254d6",
   "metadata": {},
   "outputs": [],
   "source": [
    "from keras.models import load_model\n",
    "model = load_model('feature_5_.h5')"
   ]
  },
  {
   "cell_type": "code",
   "execution_count": 32,
   "id": "06221c85",
   "metadata": {},
   "outputs": [
    {
     "name": "stdout",
     "output_type": "stream",
     "text": [
      "1/1 [==============================] - 0s 18ms/step\n",
      "[[0.0000000e+00 0.0000000e+00 2.9865549e-29 0.0000000e+00 1.1957877e-25\n",
      "  5.6792679e-26 1.6111537e-32 0.0000000e+00 1.5051982e-29 0.0000000e+00\n",
      "  0.0000000e+00 1.0635436e-32 6.3398566e-28 3.1366963e-36 0.0000000e+00\n",
      "  0.0000000e+00 0.0000000e+00 0.0000000e+00 0.0000000e+00 0.0000000e+00\n",
      "  0.0000000e+00 0.0000000e+00 2.7373242e-30 0.0000000e+00 0.0000000e+00\n",
      "  0.0000000e+00 0.0000000e+00 0.0000000e+00 0.0000000e+00 0.0000000e+00\n",
      "  0.0000000e+00 0.0000000e+00 0.0000000e+00 0.0000000e+00 0.0000000e+00\n",
      "  0.0000000e+00 0.0000000e+00 0.0000000e+00 0.0000000e+00 0.0000000e+00\n",
      "  0.0000000e+00 0.0000000e+00 0.0000000e+00 0.0000000e+00 0.0000000e+00\n",
      "  0.0000000e+00 0.0000000e+00 0.0000000e+00 0.0000000e+00 0.0000000e+00\n",
      "  0.0000000e+00 0.0000000e+00 0.0000000e+00 0.0000000e+00 0.0000000e+00\n",
      "  0.0000000e+00 0.0000000e+00 2.1904610e-28 0.0000000e+00 1.0702382e-25\n",
      "  0.0000000e+00 0.0000000e+00 0.0000000e+00 0.0000000e+00 0.0000000e+00\n",
      "  0.0000000e+00 0.0000000e+00 0.0000000e+00 0.0000000e+00 0.0000000e+00\n",
      "  0.0000000e+00 0.0000000e+00 0.0000000e+00 0.0000000e+00 0.0000000e+00\n",
      "  0.0000000e+00 4.1611422e-21 0.0000000e+00 0.0000000e+00 0.0000000e+00\n",
      "  0.0000000e+00 0.0000000e+00 0.0000000e+00 0.0000000e+00 0.0000000e+00\n",
      "  1.0000000e+00 0.0000000e+00 0.0000000e+00 0.0000000e+00 0.0000000e+00\n",
      "  0.0000000e+00 0.0000000e+00 0.0000000e+00 0.0000000e+00 1.8186643e-38\n",
      "  5.5454980e-29 0.0000000e+00 0.0000000e+00 0.0000000e+00 0.0000000e+00\n",
      "  0.0000000e+00 0.0000000e+00 0.0000000e+00 0.0000000e+00 0.0000000e+00\n",
      "  0.0000000e+00 0.0000000e+00 0.0000000e+00]]\n",
      "가장 유사한 맥주는 ['ForeignExportStout']\n"
     ]
    }
   ],
   "source": [
    "data = [0.2, 0.4, 0.6, 0.8, 1.0]\n",
    "data = np.array(data).reshape(1,5)\n",
    "predict = model.predict(data)  #범주형 결과\n",
    "\n",
    "print(predict)\n",
    "\n",
    "final_ma_predict = np.argmax(predict, axis = -1) #수치형 결과\n",
    "print('가장 유사한 맥주는', style_name[final_ma_predict])"
   ]
  },
  {
   "cell_type": "code",
   "execution_count": 33,
   "id": "8e7d8667",
   "metadata": {},
   "outputs": [],
   "source": [
    "style_name = pd.DataFrame()\n"
   ]
  },
  {
   "cell_type": "code",
   "execution_count": null,
   "id": "0803ceed",
   "metadata": {},
   "outputs": [],
   "source": []
  }
 ],
 "metadata": {
  "kernelspec": {
   "display_name": "Python 3 (ipykernel)",
   "language": "python",
   "name": "python3"
  },
  "language_info": {
   "codemirror_mode": {
    "name": "ipython",
    "version": 3
   },
   "file_extension": ".py",
   "mimetype": "text/x-python",
   "name": "python",
   "nbconvert_exporter": "python",
   "pygments_lexer": "ipython3",
   "version": "3.9.13"
  }
 },
 "nbformat": 4,
 "nbformat_minor": 5
}
